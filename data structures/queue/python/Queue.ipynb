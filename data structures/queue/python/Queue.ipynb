{
 "cells": [
  {
   "cell_type": "code",
   "execution_count": 1,
   "metadata": {},
   "outputs": [],
   "source": [
    "from __future__ import division\n",
    "from math import floor\n",
    "\n",
    "from IPython.display import Image"
   ]
  },
  {
   "cell_type": "markdown",
   "metadata": {},
   "source": [
    "# Queue\n",
    "\n",
    "i. It is **linear data structure** follows a particular order in which the operations are performed \n",
    "\n",
    "ii. Follows **First In First Out (FIFO) pattern**\n",
    "\n",
    "iii. Simple example of a queue is any queue of consumers for a resource, in which customer that comes first is served first.\n",
    "\n",
    "### Queue vs Stack\n",
    "\n",
    "Difference between queue and stack is that, in stack we remove the item that is mostly recently added. In Queue, we remove the item that is least recently added(oldest one gets eliminated first) \n",
    "\n",
    "### Applications\n",
    "\n",
    "Queue is used when things needs to be processed immediately, but have to processed in **First in First Out(FIFO)** order like Breadth First Search. Queue is useful when : \n",
    "\n",
    "i. When a resource is shared among multiple consumers. Examples include CPU scheduling, Disk Scheduling.\n",
    "\n",
    "ii. When data is transferred asynchronously (data not necessarily received at same rate as sent) between two processes. Examples include IO Buffers, pipes, file IO, etc.\n",
    "\n",
    "### Types of Queue: \n",
    "\n",
    "There are four types of queue:\n",
    "\n",
    "i. Simple/Normal Queue \n",
    "\n",
    "ii. Circular Queue \n",
    "\n",
    "iii. Priority Queue\n",
    "\n",
    "iv. Dequeue (Double Ended Queue)\n",
    "\n",
    "### Implementation Ways of Queue: \n",
    "\n",
    "There are two ways to implement queue:\n",
    "\n",
    "i. Arrays : Both stacks and queues can be implemented with arrays. \n",
    "\n",
    "    i. The problem with this approach is that **arrays static data structures — they have a fixed size**. \n",
    "    \n",
    "    ii. If your **stack or queue doesn’t use up the maximum space allotted by the array, you’re wasting memory**.\n",
    "    \n",
    "    iii. If it has ** too many elements, the array won’t be able to hold them all, and you’ll get an index out of bounds error.**\n",
    "    \n",
    "\n",
    "ii. Linked List"
   ]
  },
  {
   "cell_type": "markdown",
   "metadata": {},
   "source": [
    "# Implementation of Queue using Array"
   ]
  },
  {
   "cell_type": "markdown",
   "metadata": {},
   "source": [
    "## Implementation of Normal Queue"
   ]
  },
  {
   "cell_type": "code",
   "execution_count": 2,
   "metadata": {
    "collapsed": true
   },
   "outputs": [],
   "source": [
    "\n",
    "# Insert, Delete \n",
    "class Queue:\n",
    "    \n",
    "    def __init__(self, capacity):\n",
    "        \n",
    "        self.rear = -1\n",
    "        self.front = -1\n",
    "        self.capacity = capacity\n",
    "        self.queue = [None] * self.capacity #default queue size\n",
    "        \n",
    "        \n",
    "    def isQueueEmpty(self):\n",
    "        \n",
    "        if self.rear == -1 and self.front == -1 :\n",
    "            return True\n",
    "        else:\n",
    "            return False\n",
    "        \n",
    "        \n",
    "    def isQueueFull(self):\n",
    "        \n",
    "        if self.rear == len(self.queue)-1:\n",
    "            \n",
    "            return True\n",
    "        else:\n",
    "            return False\n",
    "        \n",
    "        \n",
    "    def insert(self, element):\n",
    "        \n",
    "        if self.isQueueFull():\n",
    "            print \"Queue Full\"\n",
    "            return\n",
    "        \n",
    "        elif self.isQueueEmpty():\n",
    "            \n",
    "            self.rear = 0\n",
    "            self.front = 0 \n",
    "            self.queue[self.rear] = element\n",
    "            \n",
    "        else:\n",
    "            self.rear += 1\n",
    "            self.queue[self.rear] = element\n",
    "            \n",
    "        print \"queue \", self.queue\n",
    "        print \"rear \", self.rear\n",
    "        print \"front \", self.front\n",
    "            \n",
    "            \n",
    "    def delete(self):\n",
    "                    \n",
    "            if self.isQueueEmpty():\n",
    "                return\n",
    "            elif self.front == self.rear:\n",
    "                self.front = -1\n",
    "                self.rear = -1 \n",
    "                self.queue = [None] * self.capacity\n",
    "                print \"Array Empty\"\n",
    "            else:\n",
    "                self.front += 1\n",
    "                print \"front \", self.front\n",
    "                \n",
    "                print \"queue \", self.queue[self.front:]\n",
    "               \n",
    "            \n",
    "                \n",
    "queue = Queue(3)"
   ]
  },
  {
   "cell_type": "code",
   "execution_count": 3,
   "metadata": {},
   "outputs": [
    {
     "name": "stdout",
     "output_type": "stream",
     "text": [
      "queue  [4, None, None]\n",
      "rear  0\n",
      "front  0\n"
     ]
    }
   ],
   "source": [
    "queue.insert(4)"
   ]
  },
  {
   "cell_type": "code",
   "execution_count": 4,
   "metadata": {},
   "outputs": [
    {
     "data": {
      "text/plain": [
       "[4, None, None]"
      ]
     },
     "execution_count": 4,
     "metadata": {},
     "output_type": "execute_result"
    }
   ],
   "source": [
    "queue.queue"
   ]
  },
  {
   "cell_type": "code",
   "execution_count": 5,
   "metadata": {},
   "outputs": [
    {
     "name": "stdout",
     "output_type": "stream",
     "text": [
      "Array Empty\n"
     ]
    }
   ],
   "source": [
    "queue.delete()"
   ]
  },
  {
   "cell_type": "markdown",
   "metadata": {},
   "source": [
    "### Draw backs in Normal/Simple Queue\n",
    "\n",
    "We cannot use space of removed elements for example: If our queue contains three elements [780, 30, 64], and we remove/delete one element from the queue then our queue will hava [30, 64]. So now, if we want to insert any new element in the queue then  we cannot insert any other element in the queue as implementation of queue will show that queue is full. In other words, we cannot use space of element that is removed from the queue.\n"
   ]
  },
  {
   "cell_type": "markdown",
   "metadata": {},
   "source": [
    "## Conclusion of Normal/Simple Queue\n",
    "\n",
    "If there are three elements in the queue: [1,2,3], If we deQueue the first element updated queue is: [2, 3]. Now even if we try to insert new element, we cannot insert because right side of the queue is still full. We can only use the queue once all the elements are removed. \n"
   ]
  },
  {
   "cell_type": "code",
   "execution_count": 7,
   "metadata": {
    "scrolled": true
   },
   "outputs": [
    {
     "data": {
      "image/png": "[encoded data removed]",
      "text/plain": [
       "<IPython.core.display.Image object>"
      ]
     },
     "execution_count": 7,
     "metadata": {},
     "output_type": "execute_result"
    }
   ],
   "source": [
    "Image(filename=\"./images/drawBackSimpleQueue.png\")\n",
    "# source Quora"
   ]
  },
  {
   "cell_type": "markdown",
   "metadata": {
    "collapsed": true
   },
   "source": [
    "# Circular Queue"
   ]
  },
  {
   "cell_type": "code",
   "execution_count": null,
   "metadata": {
    "collapsed": true
   },
   "outputs": [],
   "source": [
    "\n",
    "# Insert, Delete \n",
    "class CircularQueue:\n",
    "    \n",
    "    def __init__(self, capacity):\n",
    "        \n",
    "        self.rear = -1\n",
    "        self.front = -1\n",
    "        self.capacity = capacity\n",
    "        self.queue = [None] * self.capacity #default queue size\n",
    "        \n",
    "        \n",
    "    def isQueueEmpty(self):\n",
    "        \n",
    "        if self.rear == -1 and self.front == -1 :\n",
    "            return True\n",
    "        else:\n",
    "            return False\n",
    "        \n",
    "        \n",
    "    def isQueueFull(self):\n",
    "        \n",
    "        if (self.rear + 1) % self.capacity == self.front:\n",
    "            return True\n",
    "        else:\n",
    "            return False\n",
    "        \n",
    "        \n",
    "    def insert(self, element):\n",
    "        \n",
    "        if self.isQueueFull():\n",
    "            print \"Queue Full\"\n",
    "            return\n",
    "        \n",
    "        elif self.isQueueEmpty():\n",
    "            \n",
    "            self.rear = 0\n",
    "            self.front = 0 \n",
    "            self.queue[self.rear] = element\n",
    "            \n",
    "        else:\n",
    "            self.rear = (self.rear + 1) % self.capacity\n",
    "            self.queue[self.rear] = element\n",
    "            \n",
    "        print \"queue \", self.queue\n",
    "        print \"rear \", self.rear\n",
    "        print \"front \", self.front\n",
    "            \n",
    "            \n",
    "    def delete(self):\n",
    "                    \n",
    "            if self.isQueueEmpty():\n",
    "                return\n",
    "            elif self.front == self.rear:\n",
    "                self.front = -1\n",
    "                self.rear = -1 \n",
    "                self.queue = [None] * self.capacity\n",
    "                print \"Array Empty\"\n",
    "            else:\n",
    "                self.queue[self.front] = None\n",
    "                self.front = (self.front + 1) % self.capacity\n",
    "            print \"front \", self.front\n",
    "                \n",
    "            print \"queue \", self.queue\n",
    "               \n",
    "            \n",
    "                \n",
    "queue = CircularQueue(3)"
   ]
  },
  {
   "cell_type": "code",
   "execution_count": null,
   "metadata": {},
   "outputs": [],
   "source": [
    "queue.insert(300)"
   ]
  },
  {
   "cell_type": "code",
   "execution_count": null,
   "metadata": {},
   "outputs": [],
   "source": [
    "queue.queue"
   ]
  },
  {
   "cell_type": "code",
   "execution_count": null,
   "metadata": {
    "scrolled": true
   },
   "outputs": [],
   "source": [
    "queue.delete()"
   ]
  },
  {
   "cell_type": "markdown",
   "metadata": {
    "collapsed": true
   },
   "source": [
    "## Conclusion of Circular Queue\n",
    "\n",
    "Time Complexity: Time complexity of enQueue(), deQueue() operation is O(1) as there is no loop in any of the operation.\n",
    "\n",
    "#### Applications:\n",
    "\n",
    "##### Memory Management: \n",
    "\n",
    "The unused memory locations in the case of ordinary queues can be utilized in circular queues.\n",
    "\n",
    "\n",
    "##### Traffic system: \n",
    "\n",
    "In computer controlled traffic system, circular queues are used to switch on the traffic lights one by one repeatedly as per the time set.\n",
    "\n",
    "\n",
    "##### CPU Scheduling: \n",
    "\n",
    "Operating systems often maintain a queue of processes that are ready to execute or that are waiting for a particular event to occur.\n",
    "\n",
    "\n",
    "## Problem in Normal Queue\n",
    "\n",
    "In a normal Queue, we can insert elements until queue becomes full. But once queue becomes full, we can not insert the next element even if there is a space in front of queue.\n",
    "\n"
   ]
  },
  {
   "cell_type": "markdown",
   "metadata": {
    "collapsed": true
   },
   "source": [
    "## Priority Queue\n",
    "\n",
    "### Motivation of priority Queue\n",
    "\n",
    "There are scenarios where element with highest priority should be handled first or given more preferences. \n",
    "\n",
    "Priority queues are a kind of abstract data type(means it can be implemented using other data structures also) that generalizes the queue. Their **principles are exactly the same** **except** that they also **include a priority for every value in the queue.** When a value is inserted, a priority is assigned to it. The value with the highest priority is always removed first. However, when two values have same priority, then we follow FIFO rule\n",
    "\n",
    "You can think of priority queues like a hospital. Treating patients in a first-in-first-out (FIFO) approach isn't always a good idea because some patients may be in critical condition. So, a patient who has a cough may come in and be assigned a low priority. Then a patient may come in later who has a gunshot wound, and they would be given a high priority and then be treated first.\n",
    "\n",
    "### Types of Priority Queue\n",
    "\n",
    "** i. Ascending priority queue(implementation same as min heap): ** \n",
    "\n",
    "**Lower priority given to higher value and highest priority given to lower value**. For example: [1,2,3,4,5] so here number 1 has highest priority and number 5 has lowest priority\n",
    "\n",
    "** ii. Descending priority queue(implementation same as max heap): **\n",
    "\n",
    "**Lower priority given to lower value and highest priority given to higher value**. For example: [5,4,3,2,1] so here number 5 has highest priority and number 1 has lowest priority\n",
    "\n",
    "\n",
    "### Implementation Method of Priority Queue \n",
    "\n",
    "Priority queue can be implemented using arrays. For efficient implementation, we should consider concept of **Heaps(specially binary heap)** as it requires less complexity. \n",
    "\n",
    "### Applications of Priority Queue\n",
    "\n",
    "**Dijkstra’s Shortest Path Algorithm using priority queue**: When the graph is stored in the form of adjacency list or matrix, priority queue can be used to extract minimum efficiently when implementing Dijkstra’s algorithm.\n",
    "\n"
   ]
  },
  {
   "cell_type": "markdown",
   "metadata": {},
   "source": [
    "## Binary Heap\n",
    "\n",
    "The **heap, or better priority queue**, as abstract data structure usually supports operations like is-empty, add-element, delete-min. And usually not find-element. \n",
    "\n",
    "However, there are other types of heaps also instead of binary heap. Such as **Binomail heap** in which parent can have more than 2 children\n",
    "\n",
    "So if we want to search element in binary heap we have to search all the elements (complexity: O(N)) in worst case.\n",
    "\n",
    "### Operations: \n",
    "\n",
    "i. Insert\n",
    "\n",
    "ii. Delete\n",
    "\n",
    "**Note: We cannot pass complete array once and expect algorithm to arrange in binary heap. Therefore, when any new element is inserted, algorithm arranges the array based on min/max heap**"
   ]
  },
  {
   "cell_type": "code",
   "execution_count": null,
   "metadata": {},
   "outputs": [],
   "source": [
    "\n",
    "class BinaryHeap:\n",
    "    \n",
    "    \n",
    "    def __init__(self):\n",
    "        \n",
    "        self.array = []\n",
    "        \n",
    "            \n",
    "    def DoMinHeap(self, i):\n",
    "        \n",
    "        smallest = i\n",
    "        left_i = 2*i + 1\n",
    "        right_i = 2*i + 2\n",
    "        \n",
    "            \n",
    "        if left_i < len(self.array) and self.array[i] > self.array[left_i]:\n",
    "            smallest = left_i\n",
    "            \n",
    "        if right_i < len(self.array) and self.array[i] > self.array[right_i]:\n",
    "            smallest = right_i\n",
    "            \n",
    "        if smallest != i:\n",
    "            self.array[i], self.array[smallest] = self.array[smallest], self.array[i]\n",
    "#             print (\"smallest changed \", smallest)\n",
    "            self.DoMinHeap(smallest)\n",
    "        \n",
    "    \n",
    "    def DoMaxHeap(self, i):\n",
    "\n",
    "        largest = i\n",
    "        left_i = 2*i + 1\n",
    "        right_i = 2*i + 2\n",
    "\n",
    "        if right_i < len(self.array) and self.array[i] < self.array[right_i]:\n",
    "            largest = right_i\n",
    "            \n",
    "        if left_i < len(self.array) and self.array[i] < self.array[left_i]:\n",
    "            largest = left_i\n",
    "\n",
    "\n",
    "\n",
    "        if largest != i:\n",
    "            self.array[i], self.array[largest] = self.array[largest], self.array[i]\n",
    "            self.DoMaxHeap(largest)\n",
    "                    \n",
    "            \n",
    "    def insert(self, element):\n",
    "        \n",
    "        self.array.append(element)\n",
    "        return self.main()\n",
    "        \n",
    "        \n",
    "    def delete(self):\n",
    "        \n",
    "        #swap first and last element \n",
    "        # remove last element\n",
    "        first_element = 0\n",
    "        self.array[-1], self.array[first_element] = self.array[first_element], self.array[-1]\n",
    "        self.array = self.array[0:-1]\n",
    "        \n",
    "        return self.main()\n",
    "    \n",
    "    \n",
    "    def main(self):\n",
    "        \n",
    "        #because after half size of array, there would be left and right children\n",
    "        arrSize = int(floor(len(self.array)/2))\n",
    "        \n",
    "        for i in range(arrSize, -1, -1):\n",
    "            print (\"i, \", i)\n",
    "#             self.DoMinHeap(i)\n",
    "            self.DoMaxHeap(i)\n",
    "#             if i == 0:\n",
    "#                 break\n",
    "        return self.array\n",
    "         \n",
    "input_array = [6, 4, 2, 3, 1]\n",
    "print \"Input array \", input_array, \"\\n\"\n",
    "\n",
    "# bheap = BinaryHeap(input_array)\n",
    "bheap = BinaryHeap()\n",
    "print \"Min heap\", bheap.main()\n",
    "\n",
    "# new_num = 0\n",
    "# print \"insert new number \", new_num\n",
    "print \"min heap after inserting new number \", bheap.insert(17)\n",
    "# print \"Min heap after removing first element \", bheap.delete()\n",
    "print \"\"\n",
    "print \"===============================Summary===================================\"\n",
    "print \"Space Complexity: O(n)\"\n",
    "print \"Search Complexity: O(n)\"\n",
    "print \"Deletion: O(log n) because after removing element we again have to call heapify function\"\n",
    "print \"Insertion: O(Log n) because again after inserting we have to call heapify function\"\n"
   ]
  },
  {
   "cell_type": "code",
   "execution_count": null,
   "metadata": {},
   "outputs": [],
   "source": [
    "bheap.insert(-42)"
   ]
  },
  {
   "cell_type": "code",
   "execution_count": null,
   "metadata": {},
   "outputs": [],
   "source": [
    "bheap.delete()"
   ]
  },
  {
   "cell_type": "markdown",
   "metadata": {},
   "source": [
    "### Applications of Heaps \n",
    "\n",
    "1) **Heap Sort:** Heap Sort uses Binary Heap to sort an array in O(nLogn) time.\n",
    "\n",
    "2) **Priority Queue:** Priority queues can be efficiently implemented using Binary Heap because it supports insert(), delete() and extractmax(), decreaseKey() operations in O(logn) time. Binomoial Heap and Fibonacci Heap are variations of Binary Heap. These variations perform union also efficiently.\n",
    "\n",
    "3) **Graph Algorithms:** The priority queues are especially used in Graph Algorithms like Dijkstra’s Shortest Path and Prim’s Minimum Spanning Tree.\n",
    "\n",
    "4) Many problems can be efficiently solved using Heaps.\n",
    "\n",
    "\n",
    "a) K’th Largest Element in an array.\n",
    "\n",
    "b) Sort an almost sorted array/\n",
    "\n",
    "c) Merge K Sorted Arrays."
   ]
  }
 ],
 "metadata": {
  "kernelspec": {
   "display_name": "Python 2",
   "language": "python",
   "name": "python2"
  },
  "language_info": {
   "codemirror_mode": {
    "name": "ipython",
    "version": 2
   },
   "file_extension": ".py",
   "mimetype": "text/x-python",
   "name": "python",
   "nbconvert_exporter": "python",
   "pygments_lexer": "ipython2",
   "version": "2.7.14"
  }
 },
 "nbformat": 4,
 "nbformat_minor": 2
}
