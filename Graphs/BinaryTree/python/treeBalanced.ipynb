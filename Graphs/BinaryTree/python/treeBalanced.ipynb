{
 "cells": [
  {
   "cell_type": "markdown",
   "metadata": {},
   "source": [
    "### Check if a binary tree is balanced"
   ]
  },
  {
   "cell_type": "markdown",
   "metadata": {},
   "source": [
    "#### Algorithm:\n",
    "* To check if a tree is height-balanced, get the height of left and right subtrees. Return true if difference between heights is not more than 1 and left and right subtrees are balanced\n",
    "    * |lh-rh| <= 1\n",
    "    "
   ]
  },
  {
   "cell_type": "code",
   "execution_count": 1,
   "metadata": {},
   "outputs": [],
   "source": [
    "class Node:\n",
    "    def __init__(self, data):\n",
    "        self.data = data\n",
    "        self.left = None\n",
    "        self.right = None\n",
    "        "
   ]
  },
  {
   "cell_type": "code",
   "execution_count": 5,
   "metadata": {},
   "outputs": [],
   "source": [
    "class Height: \n",
    "    def __init__(self): \n",
    "        self.height = 0"
   ]
  },
  {
   "cell_type": "code",
   "execution_count": 10,
   "metadata": {},
   "outputs": [],
   "source": [
    "def isBalanced(root, height):  \n",
    "    lh = Height() \n",
    "    rh = Height() \n",
    "  \n",
    "    # Base condition when tree is  \n",
    "    # empty return true \n",
    "    if root is None: \n",
    "        return True\n",
    "  \n",
    "    # l and r are used to check if left \n",
    "    # and right subtree are balanced \n",
    "    l = isBalanced(root.left, lh) \n",
    "    r = isBalanced(root.right, rh) \n",
    "  \n",
    "    # height of tree is maximum of  \n",
    "    # left subtree height and \n",
    "    # right subtree height plus 1 \n",
    "    height.height = max(lh.height, rh.height) + 1\n",
    "  \n",
    "    if abs(lh.height - rh.height) <= 1: \n",
    "        return l and r\n",
    "    return False"
   ]
  },
  {
   "cell_type": "code",
   "execution_count": 11,
   "metadata": {},
   "outputs": [
    {
     "name": "stdout",
     "output_type": "stream",
     "text": [
      "Tree is balanced\n"
     ]
    }
   ],
   "source": [
    "height = Height() \n",
    "  \n",
    "root = Node(1) \n",
    "root.left = Node(2) \n",
    "root.right = Node(3) \n",
    "root.left.left = Node(4) \n",
    "root.left.right = Node(5) \n",
    "root.right.left = Node(6) \n",
    "root.left.left.left = Node(7) \n",
    "  \n",
    "if isBalanced(root, height): \n",
    "    print('Tree is balanced') \n",
    "else: \n",
    "    print('Tree is not balanced') "
   ]
  },
  {
   "cell_type": "code",
   "execution_count": null,
   "metadata": {},
   "outputs": [],
   "source": []
  }
 ],
 "metadata": {
  "kernelspec": {
   "display_name": "Python 3.8.5 32-bit",
   "language": "python",
   "name": "python38532bitd48683f89fbe4418beb3056b5ed1f1a8"
  },
  "language_info": {
   "codemirror_mode": {
    "name": "ipython",
    "version": 3
   },
   "file_extension": ".py",
   "mimetype": "text/x-python",
   "name": "python",
   "nbconvert_exporter": "python",
   "pygments_lexer": "ipython3",
   "version": "3.8.5"
  }
 },
 "nbformat": 4,
 "nbformat_minor": 4
}