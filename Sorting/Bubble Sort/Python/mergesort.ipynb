{
 "cells": [
  {
   "cell_type": "code",
   "execution_count": 7,
   "metadata": {},
   "outputs": [],
   "source": [
    "def mergesort(array):\n",
    "    if len(array) == 1:\n",
    "        return array\n",
    "    mid = len(array) // 2\n",
    "    lh = array[:mid]\n",
    "    rh = array[mid:]\n",
    "    return mergesortedarray(mergesort(lh), mergesort(rh))\n",
    "def mergesortedarray(lh, rh):\n",
    "    sortedarray = [None] * (len(lh) + len(rh))\n",
    "    k = i = j = 0\n",
    "    while i < len(lh) and j < len(rh):\n",
    "        if lh[i] <= rh[i]:\n",
    "            sortedarray[k] = lh[i]\n",
    "            i += 1\n",
    "        else:\n",
    "            sortedarray[k] = rh[j]\n",
    "            j += 1\n",
    "        k += 1\n",
    "    while i < len(lh):\n",
    "        sortedarray[k] = lh[i]\n",
    "        i += 1\n",
    "        k += 1\n",
    "    while j < len(rh):\n",
    "        sortedarray[k] = rh[j]\n",
    "        j += 1\n",
    "        k += 1\n",
    "    return sortedarray"
   ]
  },
  {
   "cell_type": "code",
   "execution_count": null,
   "metadata": {},
   "outputs": [],
   "source": []
  }
 ],
 "metadata": {
  "kernelspec": {
   "display_name": "Python 3.8.5 32-bit",
   "language": "python",
   "name": "python38532bitd48683f89fbe4418beb3056b5ed1f1a8"
  },
  "language_info": {
   "codemirror_mode": {
    "name": "ipython",
    "version": 3
   },
   "file_extension": ".py",
   "mimetype": "text/x-python",
   "name": "python",
   "nbconvert_exporter": "python",
   "pygments_lexer": "ipython3",
   "version": "3.8.5"
  }
 },
 "nbformat": 4,
 "nbformat_minor": 4
}